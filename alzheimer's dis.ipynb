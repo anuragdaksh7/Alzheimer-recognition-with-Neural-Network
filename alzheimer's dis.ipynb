{
 "cells": [
  {
   "cell_type": "code",
   "execution_count": 1,
   "id": "8d53ea46",
   "metadata": {},
   "outputs": [],
   "source": [
    "import tensorflow as tf\n",
    "import numpy as np\n",
    "import math\n",
    "import matplotlib.pyplot as plt\n",
    "import os\n",
    "import cv2\n",
    "import random\n",
    "import time\n",
    "import keras"
   ]
  },
  {
   "cell_type": "code",
   "execution_count": 2,
   "id": "d5e6c178",
   "metadata": {},
   "outputs": [],
   "source": [
    "path = \"C:\\\\Users\\\\anura\\\\Downloads\\\\archive\\\\Alzheimer_s Dataset\\\\train\\\\\"\n",
    "patht = \"C:\\\\Users\\\\anura\\\\Downloads\\\\archive\\\\Alzheimer_s Dataset\\\\test\\\\\"\n",
    "vmd = \"VeryMildDemented\"\n",
    "nd = \"NonDemented\"\n",
    "md = \"MildDemented\"\n",
    "mmd = \"ModerateDemented\""
   ]
  },
  {
   "cell_type": "code",
   "execution_count": 3,
   "id": "e9a7808b",
   "metadata": {},
   "outputs": [],
   "source": [
    "vmdImgs = os.listdir(path+vmd)\n",
    "ndImgs = os.listdir(path+nd)\n",
    "mdImgs = os.listdir(path+md)\n",
    "mmdImgs = os.listdir(path+mmd)"
   ]
  },
  {
   "cell_type": "code",
   "execution_count": 4,
   "id": "1ee59fe5",
   "metadata": {},
   "outputs": [
    {
     "data": {
      "text/plain": [
       "'\\nmd=0\\nnd=1\\nvmd=2\\nmnd=3\\n'"
      ]
     },
     "execution_count": 4,
     "metadata": {},
     "output_type": "execute_result"
    }
   ],
   "source": [
    "\"\"\"\n",
    "\n",
    "\"\"\"\n",
    "\n",
    "\"\"\"\n",
    "md=0\n",
    "nd=1\n",
    "vmd=2\n",
    "mnd=3\n",
    "\"\"\""
   ]
  },
  {
   "cell_type": "code",
   "execution_count": 5,
   "id": "b275d806",
   "metadata": {},
   "outputs": [],
   "source": [
    "inputmd = []\n",
    "outmd = []\n",
    "for i in mdImgs:\n",
    "    img = cv2.imread(path+md+\"\\\\\"+i)\n",
    "    img = cv2.cvtColor(img, cv2.COLOR_BGR2GRAY)\n",
    "    inputmd.append(img)\n",
    "    outmd.append(np.array([1,0,0,0]))\n",
    "inputmd = np.array(inputmd)/255\n",
    "outmd = np.array(outmd)"
   ]
  },
  {
   "cell_type": "code",
   "execution_count": 6,
   "id": "bdecc57d",
   "metadata": {},
   "outputs": [],
   "source": [
    "inputnd = []\n",
    "outnd = []\n",
    "for i in ndImgs:\n",
    "    img = cv2.imread(path+nd+\"\\\\\"+i)\n",
    "    img = cv2.cvtColor(img, cv2.COLOR_BGR2GRAY)\n",
    "    inputnd.append(img)\n",
    "    outnd.append(np.array([0,1,0,0]))\n",
    "inputnd = np.array(inputnd)/255\n",
    "outnd = np.array(outnd)"
   ]
  },
  {
   "cell_type": "code",
   "execution_count": 7,
   "id": "116ba9f5",
   "metadata": {},
   "outputs": [],
   "source": [
    "inputvmd = []\n",
    "outvmd = []\n",
    "for i in vmdImgs:\n",
    "    img = cv2.imread(path+vmd+\"\\\\\"+i)\n",
    "    img = cv2.cvtColor(img, cv2.COLOR_BGR2GRAY)\n",
    "    inputvmd.append(img)\n",
    "    outvmd.append(np.array([0,0,1,0]))\n",
    "inputvmd = np.array(inputvmd)/255\n",
    "outvmd = np.array(outvmd)"
   ]
  },
  {
   "cell_type": "code",
   "execution_count": 8,
   "id": "f74a5863",
   "metadata": {},
   "outputs": [],
   "source": [
    "inputmmd = []\n",
    "outmmd = []\n",
    "for i in mmdImgs:\n",
    "    img = cv2.imread(path+mmd+\"\\\\\"+i)\n",
    "    img = cv2.cvtColor(img, cv2.COLOR_BGR2GRAY)\n",
    "    inputmmd.append(img)\n",
    "    outmmd.append(np.array([0,0,0,1]))\n",
    "inputmmd = np.array(inputmmd)/255\n",
    "outmmd = np.array(outmmd)"
   ]
  },
  {
   "cell_type": "code",
   "execution_count": 9,
   "id": "10ada2e4",
   "metadata": {},
   "outputs": [
    {
     "name": "stdout",
     "output_type": "stream",
     "text": [
      "(717, 208, 176) (2560, 208, 176) (1792, 208, 176) (52, 208, 176)\n"
     ]
    }
   ],
   "source": [
    "print(inputmd.shape,inputnd.shape,inputvmd.shape,inputmmd.shape)"
   ]
  },
  {
   "cell_type": "code",
   "execution_count": 10,
   "id": "655e694e",
   "metadata": {},
   "outputs": [
    {
     "name": "stdout",
     "output_type": "stream",
     "text": [
      "(717, 4) (2560, 4) (1792, 4) (52, 4)\n"
     ]
    }
   ],
   "source": [
    "print(outmd.shape,outnd.shape,outvmd.shape,outmmd.shape)"
   ]
  },
  {
   "cell_type": "code",
   "execution_count": 11,
   "id": "41da9e1c",
   "metadata": {},
   "outputs": [],
   "source": [
    "model = keras.models.load_model(\"alzhiemer-model.h5\")"
   ]
  },
  {
   "cell_type": "code",
   "execution_count": 98,
   "id": "69d402eb",
   "metadata": {},
   "outputs": [],
   "source": [
    "model = tf.keras.models.Sequential([\n",
    "    tf.keras.layers.Conv2D(32, (3, 3), activation='relu', input_shape=( 208, 176, 1)),\n",
    "    tf.keras.layers.MaxPooling2D((2, 2)),\n",
    "    tf.keras.layers.Conv2D(64, (3, 3), activation='relu'),\n",
    "    tf.keras.layers.MaxPooling2D((2, 2)),\n",
    "    tf.keras.layers.Conv2D(128, (3, 3), activation='relu'),\n",
    "    tf.keras.layers.MaxPooling2D((2, 2)),\n",
    "    tf.keras.layers.Flatten(),\n",
    "    tf.keras.layers.Dense(64, activation='relu'),\n",
    "    tf.keras.layers.Dense(4, activation='softmax')\n",
    "])\n",
    "\n",
    "model.compile(optimizer='adam', loss='binary_crossentropy', metrics=['accuracy'])"
   ]
  },
  {
   "cell_type": "code",
   "execution_count": null,
   "id": "0afb8e86",
   "metadata": {},
   "outputs": [],
   "source": []
  },
  {
   "cell_type": "code",
   "execution_count": 12,
   "id": "7771163c",
   "metadata": {},
   "outputs": [],
   "source": [
    "inputs = np.concatenate((inputmd,inputnd,inputvmd,inputmmd))\n",
    "outputs = np.concatenate((outmd,outnd,outvmd,outmmd))"
   ]
  },
  {
   "cell_type": "code",
   "execution_count": 13,
   "id": "f6135076",
   "metadata": {
    "scrolled": true
   },
   "outputs": [
    {
     "name": "stdout",
     "output_type": "stream",
     "text": [
      "  6/161 [>.............................] - ETA: 2:00 - loss: 0.0023 - accuracy: 1.0000"
     ]
    },
    {
     "name": "stderr",
     "output_type": "stream",
     "text": [
      "\n",
      "KeyboardInterrupt\n",
      "\n"
     ]
    }
   ],
   "source": [
    "model.fit(inputs,outputs,epochs = 1)"
   ]
  },
  {
   "cell_type": "code",
   "execution_count": 14,
   "id": "9563f64a",
   "metadata": {},
   "outputs": [],
   "source": [
    "vmdImgst = os.listdir(patht+vmd)\n",
    "ndImgst = os.listdir(patht+nd)\n",
    "mdImgst = os.listdir(patht+md)\n",
    "mmdImgst = os.listdir(patht+mmd)"
   ]
  },
  {
   "cell_type": "code",
   "execution_count": 15,
   "id": "22358334",
   "metadata": {},
   "outputs": [],
   "source": [
    "inputmdt = []\n",
    "outmdt = []\n",
    "for i in mdImgst:\n",
    "    img = cv2.imread(patht+md+\"\\\\\"+i)\n",
    "    img = cv2.cvtColor(img, cv2.COLOR_BGR2GRAY)\n",
    "    inputmdt.append(img)\n",
    "    outmdt.append(np.array([1,0,0,0]))\n",
    "inputmdt = np.array(inputmdt)/255\n",
    "outmdt = np.array(outmdt)"
   ]
  },
  {
   "cell_type": "code",
   "execution_count": 16,
   "id": "58e5d8c5",
   "metadata": {},
   "outputs": [],
   "source": [
    "inputndt = []\n",
    "outndt = []\n",
    "for i in ndImgst:\n",
    "    img = cv2.imread(patht+nd+\"\\\\\"+i)\n",
    "    img = cv2.cvtColor(img, cv2.COLOR_BGR2GRAY)\n",
    "    inputndt.append(img)\n",
    "    outndt.append(np.array([0,1,0,0]))\n",
    "inputndt = np.array(inputndt)/255\n",
    "outndt = np.array(outndt)"
   ]
  },
  {
   "cell_type": "code",
   "execution_count": 17,
   "id": "9c225c12",
   "metadata": {},
   "outputs": [],
   "source": [
    "inputvmdt = []\n",
    "outvmdt = []\n",
    "for i in vmdImgst:\n",
    "    img = cv2.imread(patht+vmd+\"\\\\\"+i)\n",
    "    img = cv2.cvtColor(img, cv2.COLOR_BGR2GRAY)\n",
    "    inputvmdt.append(img)\n",
    "    outvmdt.append(np.array([0,0,1,0]))\n",
    "inputvmdt = np.array(inputvmdt)/255\n",
    "outvmdt = np.array(outvmdt)"
   ]
  },
  {
   "cell_type": "code",
   "execution_count": 18,
   "id": "89a217fc",
   "metadata": {},
   "outputs": [],
   "source": [
    "inputmmdt = []\n",
    "outmmdt = []\n",
    "for i in mmdImgst:\n",
    "    img = cv2.imread(patht+mmd+\"\\\\\"+i)\n",
    "    img = cv2.cvtColor(img, cv2.COLOR_BGR2GRAY)\n",
    "    inputmmdt.append(img)\n",
    "    outmmdt.append(np.array([0,0,0,1]))\n",
    "inputmmdt = np.array(inputmmdt)/255\n",
    "outmmdt = np.array(outmmdt)"
   ]
  },
  {
   "cell_type": "code",
   "execution_count": 19,
   "id": "0ac43b63",
   "metadata": {},
   "outputs": [],
   "source": [
    "inputst = np.concatenate((inputmdt,inputndt,inputvmdt,inputmmdt))\n",
    "outputst = np.concatenate((outmdt,outndt,outvmdt,outmmdt))"
   ]
  },
  {
   "cell_type": "code",
   "execution_count": 20,
   "id": "dafd9be1",
   "metadata": {},
   "outputs": [
    {
     "name": "stdout",
     "output_type": "stream",
     "text": [
      "40/40 [==============================] - 8s 206ms/step - loss: 1.1804 - accuracy: 0.6028\n"
     ]
    },
    {
     "data": {
      "text/plain": [
       "[1.180379033088684, 0.6028146743774414]"
      ]
     },
     "execution_count": 20,
     "metadata": {},
     "output_type": "execute_result"
    }
   ],
   "source": [
    "model.evaluate(inputst, outputst)"
   ]
  },
  {
   "cell_type": "code",
   "execution_count": 103,
   "id": "43581552",
   "metadata": {},
   "outputs": [],
   "source": [
    "model.save(\"alzhiemer-model.h5\")"
   ]
  },
  {
   "cell_type": "code",
   "execution_count": 21,
   "id": "1883729d",
   "metadata": {},
   "outputs": [
    {
     "name": "stdout",
     "output_type": "stream",
     "text": [
      "Model: \"sequential_22\"\n",
      "_________________________________________________________________\n",
      " Layer (type)                Output Shape              Param #   \n",
      "=================================================================\n",
      " conv2d_38 (Conv2D)          (None, 206, 174, 32)      320       \n",
      "                                                                 \n",
      " max_pooling2d_38 (MaxPoolin  (None, 103, 87, 32)      0         \n",
      " g2D)                                                            \n",
      "                                                                 \n",
      " conv2d_39 (Conv2D)          (None, 101, 85, 64)       18496     \n",
      "                                                                 \n",
      " max_pooling2d_39 (MaxPoolin  (None, 50, 42, 64)       0         \n",
      " g2D)                                                            \n",
      "                                                                 \n",
      " conv2d_40 (Conv2D)          (None, 48, 40, 128)       73856     \n",
      "                                                                 \n",
      " max_pooling2d_40 (MaxPoolin  (None, 24, 20, 128)      0         \n",
      " g2D)                                                            \n",
      "                                                                 \n",
      " flatten_22 (Flatten)        (None, 61440)             0         \n",
      "                                                                 \n",
      " dense_63 (Dense)            (None, 64)                3932224   \n",
      "                                                                 \n",
      " dense_64 (Dense)            (None, 4)                 260       \n",
      "                                                                 \n",
      "=================================================================\n",
      "Total params: 4,025,156\n",
      "Trainable params: 4,025,156\n",
      "Non-trainable params: 0\n",
      "_________________________________________________________________\n",
      "None\n"
     ]
    }
   ],
   "source": [
    "print(model.summary())"
   ]
  },
  {
   "cell_type": "code",
   "execution_count": null,
   "id": "9b556964",
   "metadata": {},
   "outputs": [],
   "source": []
  }
 ],
 "metadata": {
  "kernelspec": {
   "display_name": "Python 3 (ipykernel)",
   "language": "python",
   "name": "python3"
  },
  "language_info": {
   "codemirror_mode": {
    "name": "ipython",
    "version": 3
   },
   "file_extension": ".py",
   "mimetype": "text/x-python",
   "name": "python",
   "nbconvert_exporter": "python",
   "pygments_lexer": "ipython3",
   "version": "3.10.8"
  }
 },
 "nbformat": 4,
 "nbformat_minor": 5
}
